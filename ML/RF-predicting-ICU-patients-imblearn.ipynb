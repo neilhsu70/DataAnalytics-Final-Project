{
 "cells": [
  {
   "cell_type": "code",
   "execution_count": 1,
   "metadata": {},
   "outputs": [],
   "source": [
    "# Update sklearn to prevent version mismatches\n",
    "#!pip install sklearn --upgrade"
   ]
  },
  {
   "cell_type": "code",
   "execution_count": 2,
   "metadata": {},
   "outputs": [],
   "source": [
    "# install joblib. This will be used to save your model. \n",
    "# Restart your kernel after installing \n",
    "#!pip install joblib"
   ]
  },
  {
   "cell_type": "code",
   "execution_count": 1,
   "metadata": {},
   "outputs": [],
   "source": [
    "import pandas as pd\n",
    "import numpy as np"
   ]
  },
  {
   "cell_type": "code",
   "execution_count": 2,
   "metadata": {},
   "outputs": [],
   "source": [
    "pd.options.display.max_rows = 4000"
   ]
  },
  {
   "cell_type": "markdown",
   "metadata": {},
   "source": [
    "# Read the CSV and Perform Basic Data Cleaning"
   ]
  },
  {
   "cell_type": "code",
   "execution_count": 3,
   "metadata": {
    "scrolled": true
   },
   "outputs": [],
   "source": [
    "df = pd.read_csv(\"diagnosis-of-covid-19-and-its-clinical-spectrum.csv\")\n",
    "# Drop the null columns where all values are null\n",
    "# df = df.dropna(axis='columns', how='all')\n",
    "# Drop the null rows\n",
    "# df = df.dropna()\n",
    "df.head()\n",
    "df_positive = df.loc[df[\"sars_cov_2_exam_result\"]==\"positive\"]"
   ]
  },
  {
   "cell_type": "code",
   "execution_count": 4,
   "metadata": {
    "scrolled": false
   },
   "outputs": [
    {
     "data": {
      "text/plain": [
       "patient_id                                             object\n",
       "patient_age_quantile                                    int64\n",
       "sars_cov_2_exam_result                                 object\n",
       "patient_addmited_to_regular_ward_1_yes_0_no            object\n",
       "patient_addmited_to_semi_intensive_unit_1_yes_0_no     object\n",
       "patient_addmited_to_intensive_care_unit_1_yes_0_no     object\n",
       "hematocrit                                            float64\n",
       "hemoglobin                                            float64\n",
       "platelets                                             float64\n",
       "mean_platelet_volume                                  float64\n",
       "red_blood_cells                                       float64\n",
       "lymphocytes                                           float64\n",
       "mean_corpuscular_hemoglobin_concentration_mchc        float64\n",
       "leukocytes                                            float64\n",
       "basophils                                             float64\n",
       "mean_corpuscular_hemoglobin_mch                       float64\n",
       "eosinophils                                           float64\n",
       "mean_corpuscular_volume_mcv                           float64\n",
       "monocytes                                             float64\n",
       "red_blood_cell_distribution_width_rdw                 float64\n",
       "serum_glucose                                         float64\n",
       "respiratory_syncytial_virus                            object\n",
       "influenza_a                                            object\n",
       "influenza_b                                            object\n",
       "parainfluenza_1                                        object\n",
       "coronavirusnl63                                        object\n",
       "rhinovirus_enterovirus                                 object\n",
       "mycoplasma_pneumoniae                                 float64\n",
       "coronavirus_hku1                                       object\n",
       "parainfluenza_3                                        object\n",
       "chlamydophila_pneumoniae                               object\n",
       "adenovirus                                             object\n",
       "parainfluenza_4                                        object\n",
       "coronavirus229e                                        object\n",
       "coronavirusoc43                                        object\n",
       "inf_a_h1n1_2009                                        object\n",
       "bordetella_pertussis                                   object\n",
       "metapneumovirus                                        object\n",
       "parainfluenza_2                                        object\n",
       "neutrophils                                           float64\n",
       "urea                                                  float64\n",
       "proteina_c_reativa_mg_dl                              float64\n",
       "creatinine                                            float64\n",
       "potassium                                             float64\n",
       "sodium                                                float64\n",
       "influenza_b_rapid_test                                 object\n",
       "influenza_a_rapid_test                                 object\n",
       "alanine_transaminase                                  float64\n",
       "aspartate_transaminase                                float64\n",
       "gamma_glutamyltransferase                             float64\n",
       "total_bilirubin                                       float64\n",
       "direct_bilirubin                                      float64\n",
       "indirect_bilirubin                                    float64\n",
       "alkaline_phosphatase                                  float64\n",
       "ionized_calcium                                       float64\n",
       "strepto_a                                              object\n",
       "magnesium                                             float64\n",
       "pco2_venous_blood_gas_analysis                        float64\n",
       "hb_saturation_venous_blood_gas_analysis               float64\n",
       "base_excess_venous_blood_gas_analysis                 float64\n",
       "po2_venous_blood_gas_analysis                         float64\n",
       "fio2_venous_blood_gas_analysis                        float64\n",
       "total_co2_venous_blood_gas_analysis                   float64\n",
       "ph_venous_blood_gas_analysis                          float64\n",
       "hco3_venous_blood_gas_analysis                        float64\n",
       "rods                                                  float64\n",
       "segmented                                             float64\n",
       "promyelocytes                                         float64\n",
       "metamyelocytes                                        float64\n",
       "myelocytes                                            float64\n",
       "myeloblasts                                            object\n",
       "urine_esterase                                         object\n",
       "urine_aspect                                           object\n",
       "urine_ph                                               object\n",
       "urine_hemoglobin                                       object\n",
       "urine_bile_pigments                                    object\n",
       "urine_ketone_bodies                                    object\n",
       "urine_nitrite                                          object\n",
       "urine_density                                         float64\n",
       "urine_urobilinogen                                     object\n",
       "urine_protein                                          object\n",
       "urine_sugar                                           float64\n",
       "urine_leukocytes                                       object\n",
       "urine_crystals                                         object\n",
       "urine_red_blood_cells                                 float64\n",
       "urine_hyaline_cylinders                                object\n",
       "urine_granular_cylinders                               object\n",
       "urine_yeasts                                           object\n",
       "urine_color                                            object\n",
       "partial_thromboplastin_time_ptt                       float64\n",
       "relationship_patient_normal                           float64\n",
       "international_normalized_ratio_inr                    float64\n",
       "lactic_dehydrogenase                                  float64\n",
       "prothrombin_time_pt_activity                          float64\n",
       "vitamin_b12                                           float64\n",
       "creatine_phosphokinase_cpk                            float64\n",
       "ferritin                                              float64\n",
       "arterial_lactic_acid                                  float64\n",
       "lipase_dosage                                         float64\n",
       "d_dimer                                               float64\n",
       "albumin                                               float64\n",
       "hb_saturation_arterial_blood_gases                    float64\n",
       "pco2_arterial_blood_gas_analysis                      float64\n",
       "base_excess_arterial_blood_gas_analysis               float64\n",
       "ph_arterial_blood_gas_analysis                        float64\n",
       "total_co2_arterial_blood_gas_analysis                 float64\n",
       "hco3_arterial_blood_gas_analysis                      float64\n",
       "po2_arterial_blood_gas_analysis                       float64\n",
       "arteiral_fio2                                         float64\n",
       "phosphor                                              float64\n",
       "cto2_arterial_blood_gas_analysis                      float64\n",
       "dtype: object"
      ]
     },
     "execution_count": 4,
     "metadata": {},
     "output_type": "execute_result"
    }
   ],
   "source": [
    "df_positive.dtypes"
   ]
  },
  {
   "cell_type": "code",
   "execution_count": 5,
   "metadata": {
    "scrolled": false
   },
   "outputs": [
    {
     "data": {
      "text/plain": [
       "patient_id                                            558\n",
       "patient_age_quantile                                  558\n",
       "sars_cov_2_exam_result                                558\n",
       "patient_addmited_to_regular_ward_1_yes_0_no           558\n",
       "patient_addmited_to_semi_intensive_unit_1_yes_0_no    558\n",
       "patient_addmited_to_intensive_care_unit_1_yes_0_no    558\n",
       "hematocrit                                             83\n",
       "hemoglobin                                             83\n",
       "platelets                                              83\n",
       "mean_platelet_volume                                   81\n",
       "red_blood_cells                                        83\n",
       "lymphocytes                                            83\n",
       "mean_corpuscular_hemoglobin_concentration_mchc         83\n",
       "leukocytes                                             83\n",
       "basophils                                              83\n",
       "mean_corpuscular_hemoglobin_mch                        83\n",
       "eosinophils                                            83\n",
       "mean_corpuscular_volume_mcv                            83\n",
       "monocytes                                              83\n",
       "red_blood_cell_distribution_width_rdw                  83\n",
       "serum_glucose                                          33\n",
       "respiratory_syncytial_virus                           112\n",
       "influenza_a                                           112\n",
       "influenza_b                                           112\n",
       "parainfluenza_1                                       112\n",
       "coronavirusnl63                                       112\n",
       "rhinovirus_enterovirus                                112\n",
       "mycoplasma_pneumoniae                                   0\n",
       "coronavirus_hku1                                      112\n",
       "parainfluenza_3                                       112\n",
       "chlamydophila_pneumoniae                              112\n",
       "adenovirus                                            112\n",
       "parainfluenza_4                                       112\n",
       "coronavirus229e                                       112\n",
       "coronavirusoc43                                       112\n",
       "inf_a_h1n1_2009                                       112\n",
       "bordetella_pertussis                                  112\n",
       "metapneumovirus                                       112\n",
       "parainfluenza_2                                       112\n",
       "neutrophils                                            75\n",
       "urea                                                   59\n",
       "proteina_c_reativa_mg_dl                               70\n",
       "creatinine                                             62\n",
       "potassium                                              58\n",
       "sodium                                                 58\n",
       "influenza_b_rapid_test                                 62\n",
       "influenza_a_rapid_test                                 62\n",
       "alanine_transaminase                                   40\n",
       "aspartate_transaminase                                 40\n",
       "gamma_glutamyltransferase                              30\n",
       "total_bilirubin                                        40\n",
       "direct_bilirubin                                       40\n",
       "indirect_bilirubin                                     40\n",
       "alkaline_phosphatase                                   29\n",
       "ionized_calcium                                         6\n",
       "strepto_a                                              14\n",
       "magnesium                                               5\n",
       "pco2_venous_blood_gas_analysis                         20\n",
       "hb_saturation_venous_blood_gas_analysis                20\n",
       "base_excess_venous_blood_gas_analysis                  20\n",
       "po2_venous_blood_gas_analysis                          20\n",
       "fio2_venous_blood_gas_analysis                          0\n",
       "total_co2_venous_blood_gas_analysis                    20\n",
       "ph_venous_blood_gas_analysis                           20\n",
       "hco3_venous_blood_gas_analysis                         20\n",
       "rods                                                    9\n",
       "segmented                                               9\n",
       "promyelocytes                                           9\n",
       "metamyelocytes                                          9\n",
       "myelocytes                                              9\n",
       "myeloblasts                                             9\n",
       "urine_esterase                                         11\n",
       "urine_aspect                                           12\n",
       "urine_ph                                               12\n",
       "urine_hemoglobin                                       12\n",
       "urine_bile_pigments                                    12\n",
       "urine_ketone_bodies                                     9\n",
       "urine_nitrite                                           0\n",
       "urine_density                                          12\n",
       "urine_urobilinogen                                     12\n",
       "urine_protein                                          10\n",
       "urine_sugar                                             0\n",
       "urine_leukocytes                                       12\n",
       "urine_crystals                                         12\n",
       "urine_red_blood_cells                                  12\n",
       "urine_hyaline_cylinders                                11\n",
       "urine_granular_cylinders                               12\n",
       "urine_yeasts                                           12\n",
       "urine_color                                            12\n",
       "partial_thromboplastin_time_ptt                         0\n",
       "relationship_patient_normal                            15\n",
       "international_normalized_ratio_inr                     23\n",
       "lactic_dehydrogenase                                   26\n",
       "prothrombin_time_pt_activity                            0\n",
       "vitamin_b12                                             0\n",
       "creatine_phosphokinase_cpk                             23\n",
       "ferritin                                                2\n",
       "arterial_lactic_acid                                   13\n",
       "lipase_dosage                                           3\n",
       "d_dimer                                                 0\n",
       "albumin                                                 0\n",
       "hb_saturation_arterial_blood_gases                     13\n",
       "pco2_arterial_blood_gas_analysis                       13\n",
       "base_excess_arterial_blood_gas_analysis                13\n",
       "ph_arterial_blood_gas_analysis                         13\n",
       "total_co2_arterial_blood_gas_analysis                  13\n",
       "hco3_arterial_blood_gas_analysis                       13\n",
       "po2_arterial_blood_gas_analysis                        13\n",
       "arteiral_fio2                                           9\n",
       "phosphor                                                1\n",
       "cto2_arterial_blood_gas_analysis                       13\n",
       "dtype: int64"
      ]
     },
     "execution_count": 5,
     "metadata": {},
     "output_type": "execute_result"
    }
   ],
   "source": [
    "df_positive.count()\n"
   ]
  },
  {
   "cell_type": "code",
   "execution_count": 6,
   "metadata": {},
   "outputs": [
    {
     "data": {
      "text/plain": [
       "patient_id                                              0\n",
       "patient_age_quantile                                    0\n",
       "sars_cov_2_exam_result                                  0\n",
       "patient_addmited_to_regular_ward_1_yes_0_no             0\n",
       "patient_addmited_to_semi_intensive_unit_1_yes_0_no      0\n",
       "patient_addmited_to_intensive_care_unit_1_yes_0_no      0\n",
       "hematocrit                                            475\n",
       "hemoglobin                                            475\n",
       "platelets                                             475\n",
       "mean_platelet_volume                                  477\n",
       "red_blood_cells                                       475\n",
       "lymphocytes                                           475\n",
       "mean_corpuscular_hemoglobin_concentration_mchc        475\n",
       "leukocytes                                            475\n",
       "basophils                                             475\n",
       "mean_corpuscular_hemoglobin_mch                       475\n",
       "eosinophils                                           475\n",
       "mean_corpuscular_volume_mcv                           475\n",
       "monocytes                                             475\n",
       "red_blood_cell_distribution_width_rdw                 475\n",
       "serum_glucose                                         525\n",
       "respiratory_syncytial_virus                           446\n",
       "influenza_a                                           446\n",
       "influenza_b                                           446\n",
       "parainfluenza_1                                       446\n",
       "coronavirusnl63                                       446\n",
       "rhinovirus_enterovirus                                446\n",
       "mycoplasma_pneumoniae                                 558\n",
       "coronavirus_hku1                                      446\n",
       "parainfluenza_3                                       446\n",
       "chlamydophila_pneumoniae                              446\n",
       "adenovirus                                            446\n",
       "parainfluenza_4                                       446\n",
       "coronavirus229e                                       446\n",
       "coronavirusoc43                                       446\n",
       "inf_a_h1n1_2009                                       446\n",
       "bordetella_pertussis                                  446\n",
       "metapneumovirus                                       446\n",
       "parainfluenza_2                                       446\n",
       "neutrophils                                           483\n",
       "urea                                                  499\n",
       "proteina_c_reativa_mg_dl                              488\n",
       "creatinine                                            496\n",
       "potassium                                             500\n",
       "sodium                                                500\n",
       "influenza_b_rapid_test                                496\n",
       "influenza_a_rapid_test                                496\n",
       "alanine_transaminase                                  518\n",
       "aspartate_transaminase                                518\n",
       "gamma_glutamyltransferase                             528\n",
       "total_bilirubin                                       518\n",
       "direct_bilirubin                                      518\n",
       "indirect_bilirubin                                    518\n",
       "alkaline_phosphatase                                  529\n",
       "ionized_calcium                                       552\n",
       "strepto_a                                             544\n",
       "magnesium                                             553\n",
       "pco2_venous_blood_gas_analysis                        538\n",
       "hb_saturation_venous_blood_gas_analysis               538\n",
       "base_excess_venous_blood_gas_analysis                 538\n",
       "po2_venous_blood_gas_analysis                         538\n",
       "fio2_venous_blood_gas_analysis                        558\n",
       "total_co2_venous_blood_gas_analysis                   538\n",
       "ph_venous_blood_gas_analysis                          538\n",
       "hco3_venous_blood_gas_analysis                        538\n",
       "rods                                                  549\n",
       "segmented                                             549\n",
       "promyelocytes                                         549\n",
       "metamyelocytes                                        549\n",
       "myelocytes                                            549\n",
       "myeloblasts                                           549\n",
       "urine_esterase                                        547\n",
       "urine_aspect                                          546\n",
       "urine_ph                                              546\n",
       "urine_hemoglobin                                      546\n",
       "urine_bile_pigments                                   546\n",
       "urine_ketone_bodies                                   549\n",
       "urine_nitrite                                         558\n",
       "urine_density                                         546\n",
       "urine_urobilinogen                                    546\n",
       "urine_protein                                         548\n",
       "urine_sugar                                           558\n",
       "urine_leukocytes                                      546\n",
       "urine_crystals                                        546\n",
       "urine_red_blood_cells                                 546\n",
       "urine_hyaline_cylinders                               547\n",
       "urine_granular_cylinders                              546\n",
       "urine_yeasts                                          546\n",
       "urine_color                                           546\n",
       "partial_thromboplastin_time_ptt                       558\n",
       "relationship_patient_normal                           543\n",
       "international_normalized_ratio_inr                    535\n",
       "lactic_dehydrogenase                                  532\n",
       "prothrombin_time_pt_activity                          558\n",
       "vitamin_b12                                           558\n",
       "creatine_phosphokinase_cpk                            535\n",
       "ferritin                                              556\n",
       "arterial_lactic_acid                                  545\n",
       "lipase_dosage                                         555\n",
       "d_dimer                                               558\n",
       "albumin                                               558\n",
       "hb_saturation_arterial_blood_gases                    545\n",
       "pco2_arterial_blood_gas_analysis                      545\n",
       "base_excess_arterial_blood_gas_analysis               545\n",
       "ph_arterial_blood_gas_analysis                        545\n",
       "total_co2_arterial_blood_gas_analysis                 545\n",
       "hco3_arterial_blood_gas_analysis                      545\n",
       "po2_arterial_blood_gas_analysis                       545\n",
       "arteiral_fio2                                         549\n",
       "phosphor                                              557\n",
       "cto2_arterial_blood_gas_analysis                      545\n",
       "dtype: int64"
      ]
     },
     "execution_count": 6,
     "metadata": {},
     "output_type": "execute_result"
    }
   ],
   "source": [
    "df_positive.isnull().sum()"
   ]
  },
  {
   "cell_type": "code",
   "execution_count": 7,
   "metadata": {
    "scrolled": true
   },
   "outputs": [
    {
     "data": {
      "text/plain": [
       "patient_addmited_to_intensive_care_unit_1_yes_0_no    44\n",
       "patient_age_quantile                                  44\n",
       "hematocrit                                            44\n",
       "hemoglobin                                            44\n",
       "mean_platelet_volume                                  44\n",
       "red_blood_cells                                       44\n",
       "lymphocytes                                           44\n",
       "mean_corpuscular_hemoglobin_mch                       44\n",
       "monocytes                                             44\n",
       "red_blood_cell_distribution_width_rdw                 44\n",
       "neutrophils                                           44\n",
       "urea                                                  44\n",
       "proteina_c_reativa_mg_dl                              44\n",
       "dtype: int64"
      ]
     },
     "execution_count": 7,
     "metadata": {},
     "output_type": "execute_result"
    }
   ],
   "source": [
    "df_positive_selected_features = (df_positive[[\"patient_addmited_to_intensive_care_unit_1_yes_0_no\",\n",
    "                                              \"patient_age_quantile\",\n",
    "                                              \"hematocrit\",\n",
    "                                              \"hemoglobin\",\n",
    "#                                               \"platelets\",\n",
    "                                              \"mean_platelet_volume\",\n",
    "                                              \"red_blood_cells\",\n",
    "                                              \"lymphocytes\",\n",
    "#                                               \"basophils\",\n",
    "                                              \"mean_corpuscular_hemoglobin_mch\",\n",
    "#                                               \"eosinophils\",\n",
    "#                                               \"mean_corpuscular_volume_mcv\",\n",
    "                                              \"monocytes\",\n",
    "                                              \"red_blood_cell_distribution_width_rdw\",\n",
    "                                              \"neutrophils\",\n",
    "                                              \"urea\",\n",
    "                                              \"proteina_c_reativa_mg_dl\",\n",
    "#                                               \"creatinine\",\n",
    "#                                               \"potassium\",\n",
    "#                                               \"sodium\",\n",
    "#                                               \"influenza_b_rapid_test\",\n",
    "#                                               \"influenza_a_rapid_test\"\n",
    "#                                               \"serum_glucose\",\n",
    "#                                               \"coronavirus_hku1\",\n",
    "#                                               \"influenza_a\",\n",
    "#                                               \"influenza_b\",\n",
    "#                                               \"parainfluenza_1\",\n",
    "#                                               \"coronavirusnl63\",\n",
    "#                                               \"coronavirusoc43\",\n",
    "#                                               \"chlamydophila_pneumoniae\",\n",
    "#                                               \"adenovirus\",\"parainfluenza_4\",\n",
    "#                                               \"coronavirusoc43\"\n",
    "                                             ]])\n",
    "\n",
    "df_positive_selected_features_drop = df_positive_selected_features.dropna()\n",
    "df_positive_selected_features_drop.count()\n"
   ]
  },
  {
   "cell_type": "markdown",
   "metadata": {},
   "source": [
    "# Select your features (columns)"
   ]
  },
  {
   "cell_type": "code",
   "execution_count": 8,
   "metadata": {},
   "outputs": [
    {
     "data": {
      "text/plain": [
       "(44, 12)"
      ]
     },
     "execution_count": 8,
     "metadata": {},
     "output_type": "execute_result"
    }
   ],
   "source": [
    "# Set features. This will also be used as your x values.\n",
    "#selected_features = df[['names', 'of', 'selected', 'features', 'here']]\n",
    "# X= df_positive.drop([\"patient_addmited_to_intensive_care_unit_1_yes_0_no\",\"sars_cov_2_exam_result\",\"patient_id\",\"patient_addmited_to_regular_ward_1_yes_0_no\",\"patient_addmited_to_semi_intensive_unit_1_yes_0_no\"], axis=1)\n",
    "X=df_positive_selected_features_drop.drop(\"patient_addmited_to_intensive_care_unit_1_yes_0_no\", axis =1)\n",
    "# y= df[[\"koi_disposition\"]].values.reshape(-1, 1)\n",
    "# y= df_positive[\"patient_addmited_to_intensive_care_unit_1_yes_0_no\"]\n",
    "y= df_positive_selected_features_drop[\"patient_addmited_to_intensive_care_unit_1_yes_0_no\"]\n",
    "\n",
    "\n",
    "X.shape\n",
    "\n"
   ]
  },
  {
   "cell_type": "code",
   "execution_count": 9,
   "metadata": {},
   "outputs": [
    {
     "data": {
      "text/plain": [
       "f    39\n",
       "t     5\n",
       "Name: patient_addmited_to_intensive_care_unit_1_yes_0_no, dtype: int64"
      ]
     },
     "execution_count": 9,
     "metadata": {},
     "output_type": "execute_result"
    }
   ],
   "source": [
    "y.value_counts()"
   ]
  },
  {
   "cell_type": "code",
   "execution_count": 10,
   "metadata": {},
   "outputs": [],
   "source": [
    "from sklearn.pipeline import make_pipeline\n",
    "from sklearn.linear_model import LinearRegression\n",
    "from sklearn.preprocessing import StandardScaler, OneHotEncoder\n",
    "from sklearn.model_selection import train_test_split\n",
    "\n"
   ]
  },
  {
   "cell_type": "code",
   "execution_count": 11,
   "metadata": {},
   "outputs": [],
   "source": [
    "# from sklearn.compose import ColumnTransformer\n",
    "# from sklearn.compose import make_column_transformer\n",
    "# from sklearn.compose import make_column_selector\n",
    "\n",
    "# ct = make_column_transformer(\n",
    "# #     (StandardScaler(), make_column_selector(dtype_include=np.number)),\n",
    "#     (OneHotEncoder(), make_column_selector(dtype_include=object))\n",
    "# )\n",
    "# ct.fit_transform(X)"
   ]
  },
  {
   "cell_type": "code",
   "execution_count": 12,
   "metadata": {},
   "outputs": [],
   "source": [
    "# X"
   ]
  },
  {
   "cell_type": "markdown",
   "metadata": {},
   "source": [
    "# Create a Train Test Split\n"
   ]
  },
  {
   "cell_type": "code",
   "execution_count": 13,
   "metadata": {},
   "outputs": [
    {
     "data": {
      "text/html": [
       "<div>\n",
       "<style scoped>\n",
       "    .dataframe tbody tr th:only-of-type {\n",
       "        vertical-align: middle;\n",
       "    }\n",
       "\n",
       "    .dataframe tbody tr th {\n",
       "        vertical-align: top;\n",
       "    }\n",
       "\n",
       "    .dataframe thead th {\n",
       "        text-align: right;\n",
       "    }\n",
       "</style>\n",
       "<table border=\"1\" class=\"dataframe\">\n",
       "  <thead>\n",
       "    <tr style=\"text-align: right;\">\n",
       "      <th></th>\n",
       "      <th>patient_age_quantile</th>\n",
       "      <th>hematocrit</th>\n",
       "      <th>hemoglobin</th>\n",
       "      <th>mean_platelet_volume</th>\n",
       "      <th>red_blood_cells</th>\n",
       "      <th>lymphocytes</th>\n",
       "      <th>mean_corpuscular_hemoglobin_mch</th>\n",
       "      <th>monocytes</th>\n",
       "      <th>red_blood_cell_distribution_width_rdw</th>\n",
       "      <th>neutrophils</th>\n",
       "      <th>urea</th>\n",
       "      <th>proteina_c_reativa_mg_dl</th>\n",
       "    </tr>\n",
       "  </thead>\n",
       "  <tbody>\n",
       "    <tr>\n",
       "      <th>5204</th>\n",
       "      <td>13</td>\n",
       "      <td>0.350958</td>\n",
       "      <td>0.416252</td>\n",
       "      <td>1.917961</td>\n",
       "      <td>-0.338755</td>\n",
       "      <td>0.540121</td>\n",
       "      <td>1.380422</td>\n",
       "      <td>3.640448</td>\n",
       "      <td>-0.448160</td>\n",
       "      <td>-1.504130</td>\n",
       "      <td>-0.737209</td>\n",
       "      <td>-0.521453</td>\n",
       "    </tr>\n",
       "    <tr>\n",
       "      <th>5226</th>\n",
       "      <td>16</td>\n",
       "      <td>-0.427254</td>\n",
       "      <td>-0.210308</td>\n",
       "      <td>-0.325903</td>\n",
       "      <td>-0.374015</td>\n",
       "      <td>-0.031325</td>\n",
       "      <td>0.282719</td>\n",
       "      <td>0.357547</td>\n",
       "      <td>-0.978899</td>\n",
       "      <td>0.143034</td>\n",
       "      <td>-0.439476</td>\n",
       "      <td>1.006559</td>\n",
       "    </tr>\n",
       "    <tr>\n",
       "      <th>5016</th>\n",
       "      <td>12</td>\n",
       "      <td>-1.319907</td>\n",
       "      <td>-1.150148</td>\n",
       "      <td>-0.325903</td>\n",
       "      <td>-1.308424</td>\n",
       "      <td>-1.268037</td>\n",
       "      <td>0.439533</td>\n",
       "      <td>0.646442</td>\n",
       "      <td>-0.625073</td>\n",
       "      <td>1.232949</td>\n",
       "      <td>-0.811643</td>\n",
       "      <td>-0.477739</td>\n",
       "    </tr>\n",
       "    <tr>\n",
       "      <th>5004</th>\n",
       "      <td>15</td>\n",
       "      <td>-0.244145</td>\n",
       "      <td>-0.210308</td>\n",
       "      <td>0.683835</td>\n",
       "      <td>-0.444537</td>\n",
       "      <td>0.710702</td>\n",
       "      <td>0.439533</td>\n",
       "      <td>0.830284</td>\n",
       "      <td>-0.536617</td>\n",
       "      <td>-0.717424</td>\n",
       "      <td>-0.737209</td>\n",
       "      <td>-0.330700</td>\n",
       "    </tr>\n",
       "    <tr>\n",
       "      <th>4899</th>\n",
       "      <td>18</td>\n",
       "      <td>1.609830</td>\n",
       "      <td>1.732028</td>\n",
       "      <td>-0.662483</td>\n",
       "      <td>1.600584</td>\n",
       "      <td>-1.071869</td>\n",
       "      <td>0.021361</td>\n",
       "      <td>3.377816</td>\n",
       "      <td>0.967144</td>\n",
       "      <td>0.159424</td>\n",
       "      <td>0.453725</td>\n",
       "      <td>-0.306856</td>\n",
       "    </tr>\n",
       "  </tbody>\n",
       "</table>\n",
       "</div>"
      ],
      "text/plain": [
       "      patient_age_quantile  hematocrit  hemoglobin  mean_platelet_volume  \\\n",
       "5204                    13    0.350958    0.416252              1.917961   \n",
       "5226                    16   -0.427254   -0.210308             -0.325903   \n",
       "5016                    12   -1.319907   -1.150148             -0.325903   \n",
       "5004                    15   -0.244145   -0.210308              0.683835   \n",
       "4899                    18    1.609830    1.732028             -0.662483   \n",
       "\n",
       "      red_blood_cells  lymphocytes  mean_corpuscular_hemoglobin_mch  \\\n",
       "5204        -0.338755     0.540121                         1.380422   \n",
       "5226        -0.374015    -0.031325                         0.282719   \n",
       "5016        -1.308424    -1.268037                         0.439533   \n",
       "5004        -0.444537     0.710702                         0.439533   \n",
       "4899         1.600584    -1.071869                         0.021361   \n",
       "\n",
       "      monocytes  red_blood_cell_distribution_width_rdw  neutrophils      urea  \\\n",
       "5204   3.640448                              -0.448160    -1.504130 -0.737209   \n",
       "5226   0.357547                              -0.978899     0.143034 -0.439476   \n",
       "5016   0.646442                              -0.625073     1.232949 -0.811643   \n",
       "5004   0.830284                              -0.536617    -0.717424 -0.737209   \n",
       "4899   3.377816                               0.967144     0.159424  0.453725   \n",
       "\n",
       "      proteina_c_reativa_mg_dl  \n",
       "5204                 -0.521453  \n",
       "5226                  1.006559  \n",
       "5016                 -0.477739  \n",
       "5004                 -0.330700  \n",
       "4899                 -0.306856  "
      ]
     },
     "execution_count": 13,
     "metadata": {},
     "output_type": "execute_result"
    }
   ],
   "source": [
    "from sklearn.model_selection import train_test_split\n",
    "\n",
    "X = pd.get_dummies(X)\n",
    "\n",
    "X_train, X_test, y_train, y_test = train_test_split(X, y, random_state=42)\n",
    "\n",
    "X_train.head()"
   ]
  },
  {
   "cell_type": "code",
   "execution_count": 14,
   "metadata": {},
   "outputs": [
    {
     "data": {
      "text/plain": [
       "f    9\n",
       "t    2\n",
       "Name: patient_addmited_to_intensive_care_unit_1_yes_0_no, dtype: int64"
      ]
     },
     "execution_count": 14,
     "metadata": {},
     "output_type": "execute_result"
    }
   ],
   "source": [
    "y_test.value_counts()"
   ]
  },
  {
   "cell_type": "code",
   "execution_count": 15,
   "metadata": {},
   "outputs": [
    {
     "data": {
      "text/plain": [
       "f    30\n",
       "t     3\n",
       "Name: patient_addmited_to_intensive_care_unit_1_yes_0_no, dtype: int64"
      ]
     },
     "execution_count": 15,
     "metadata": {},
     "output_type": "execute_result"
    }
   ],
   "source": [
    "y_train.value_counts()"
   ]
  },
  {
   "cell_type": "markdown",
   "metadata": {},
   "source": [
    "# Pre-processing\n",
    "\n",
    "Scale the data using the MinMaxScaler and perform some feature selection"
   ]
  },
  {
   "cell_type": "code",
   "execution_count": 16,
   "metadata": {},
   "outputs": [],
   "source": [
    "# # Scale your data\n",
    "# from sklearn.preprocessing import MinMaxScaler\n",
    "# X_minmax = MinMaxScaler().fit(X_train)\n",
    "# #y_minmax = MinMaxScaler().fit(y_train)\n",
    "\n",
    "# X_train_minmax = X_minmax.transform(X_train)\n",
    "# X_test_minmax = X_minmax.transform(X_test)\n",
    "# #y_train_minmax = y_minmax.transform(y_train)\n",
    "# #y_test_minmax = y_minmax.transform(y_test)"
   ]
  },
  {
   "cell_type": "markdown",
   "metadata": {},
   "source": [
    "# Train the Model\n",
    "\n"
   ]
  },
  {
   "cell_type": "code",
   "execution_count": 17,
   "metadata": {},
   "outputs": [],
   "source": [
    "from sklearn.ensemble import RandomForestClassifier\n",
    "from sklearn.metrics import classification_report\n"
   ]
  },
  {
   "cell_type": "code",
   "execution_count": 18,
   "metadata": {},
   "outputs": [],
   "source": [
    "# Create a random forest classifier\n",
    "# rf = RandomForestClassifier(n_estimators=2000)\n",
    "# our model\n",
    "classifier = RandomForestClassifier\n",
    "pipeline = make_pipeline(classifier(random_state=42))\n",
    "model = pipeline.fit(X_train, y_train)\n",
    "\n",
    "# # rf = rf.fit(X_train, y_train)\n",
    "# acc = model.score(X_test, y_test)\n",
    "# print(f\"Training Data Score: {rf.score(X_train, y_train)}\")\n",
    "# print(f\"Testing Data Score: {rf.score(X_test, y_test)}\")"
   ]
  },
  {
   "cell_type": "code",
   "execution_count": 19,
   "metadata": {},
   "outputs": [
    {
     "data": {
      "text/plain": [
       "array(['f', 'f', 'f', 'f', 't', 'f', 'f', 'f', 't', 'f', 'f'],\n",
       "      dtype=object)"
      ]
     },
     "execution_count": 19,
     "metadata": {},
     "output_type": "execute_result"
    }
   ],
   "source": [
    "from imblearn.datasets import fetch_datasets\n",
    "from imblearn.pipeline import make_pipeline as make_pipeline_imb\n",
    "from imblearn.over_sampling import SMOTE\n",
    "from imblearn.under_sampling import NearMiss\n",
    "from imblearn.metrics import classification_report_imbalanced\n",
    "\n",
    "# Use SMOTE oversampling\n",
    "smote_pipeline = make_pipeline_imb(SMOTE(random_state=42,k_neighbors=2), classifier(random_state=42))\n",
    "smote_model = smote_pipeline.fit(X_train, y_train)\n",
    "smote_prediction = smote_model.predict(X_test)\n",
    "smote_prediction\n",
    "# smote_model.feature_importance_"
   ]
  },
  {
   "cell_type": "code",
   "execution_count": 20,
   "metadata": {
    "scrolled": true
   },
   "outputs": [
    {
     "data": {
      "text/plain": [
       "5341    f\n",
       "5161    f\n",
       "5196    t\n",
       "5329    f\n",
       "5250    f\n",
       "5564    f\n",
       "1966    t\n",
       "4863    f\n",
       "4459    f\n",
       "1494    f\n",
       "2722    f\n",
       "Name: patient_addmited_to_intensive_care_unit_1_yes_0_no, dtype: object"
      ]
     },
     "execution_count": 20,
     "metadata": {},
     "output_type": "execute_result"
    }
   ],
   "source": [
    "y_test"
   ]
  },
  {
   "cell_type": "code",
   "execution_count": 21,
   "metadata": {},
   "outputs": [
    {
     "name": "stdout",
     "output_type": "stream",
     "text": [
      "SMOTE Classification Report\n",
      "                   pre       rec       spe        f1       geo       iba       sup\n",
      "\n",
      "          f       0.78      0.78      0.00      0.78      0.00      0.00         9\n",
      "          t       0.00      0.00      0.78      0.00      0.00      0.00         2\n",
      "\n",
      "avg / total       0.64      0.64      0.14      0.64      0.00      0.00        11\n",
      "\n"
     ]
    }
   ],
   "source": [
    "from sklearn.metrics import classification_report\n",
    "print(\"SMOTE Classification Report\")\n",
    "print(classification_report_imbalanced(y_test, smote_prediction))"
   ]
  },
  {
   "cell_type": "code",
   "execution_count": 22,
   "metadata": {},
   "outputs": [
    {
     "data": {
      "text/plain": [
       "{'memory': None,\n",
       " 'steps': [('randomforestclassifier',\n",
       "   RandomForestClassifier(random_state=42))],\n",
       " 'verbose': False,\n",
       " 'randomforestclassifier': RandomForestClassifier(random_state=42),\n",
       " 'randomforestclassifier__bootstrap': True,\n",
       " 'randomforestclassifier__ccp_alpha': 0.0,\n",
       " 'randomforestclassifier__class_weight': None,\n",
       " 'randomforestclassifier__criterion': 'gini',\n",
       " 'randomforestclassifier__max_depth': None,\n",
       " 'randomforestclassifier__max_features': 'auto',\n",
       " 'randomforestclassifier__max_leaf_nodes': None,\n",
       " 'randomforestclassifier__max_samples': None,\n",
       " 'randomforestclassifier__min_impurity_decrease': 0.0,\n",
       " 'randomforestclassifier__min_impurity_split': None,\n",
       " 'randomforestclassifier__min_samples_leaf': 1,\n",
       " 'randomforestclassifier__min_samples_split': 2,\n",
       " 'randomforestclassifier__min_weight_fraction_leaf': 0.0,\n",
       " 'randomforestclassifier__n_estimators': 100,\n",
       " 'randomforestclassifier__n_jobs': None,\n",
       " 'randomforestclassifier__oob_score': False,\n",
       " 'randomforestclassifier__random_state': 42,\n",
       " 'randomforestclassifier__verbose': 0,\n",
       " 'randomforestclassifier__warm_start': False}"
      ]
     },
     "execution_count": 22,
     "metadata": {},
     "output_type": "execute_result"
    }
   ],
   "source": [
    "model.get_params()"
   ]
  },
  {
   "cell_type": "markdown",
   "metadata": {},
   "source": [
    "## Random Forest Tuning"
   ]
  },
  {
   "cell_type": "code",
   "execution_count": 23,
   "metadata": {
    "scrolled": true
   },
   "outputs": [],
   "source": [
    "# from imblearn.datasets import fetch_datasets\n",
    "# from imblearn.pipeline import make_pipeline as make_pipeline_imb\n",
    "# from imblearn.over_sampling import SMOTE\n",
    "# from imblearn.under_sampling import NearMiss\n",
    "# from imblearn.metrics import classification_report_imbalanced\n",
    "\n",
    "# # Use SMOTE oversampling\n",
    "# smote_pipeline = make_pipeline_imb(SMOTE(random_state=42,k_neighbors=2), classifier(random_state=42))\n",
    "# smote_model = smote_pipeline.fit(X_train, y_train)\n",
    "# smote_prediction = smote_model.predict(X_test)\n",
    "\n",
    "\n",
    "\n",
    "from imblearn.pipeline import Pipeline\n",
    "model = Pipeline([\n",
    "        ('sampling', SMOTE(random_state=42, k_neighbors=2)),\n",
    "        ('classification', classifier())\n",
    "    ])\n",
    "\n",
    "\n"
   ]
  },
  {
   "cell_type": "code",
   "execution_count": 24,
   "metadata": {},
   "outputs": [
    {
     "data": {
      "text/plain": [
       "['classification',\n",
       " 'classification__bootstrap',\n",
       " 'classification__ccp_alpha',\n",
       " 'classification__class_weight',\n",
       " 'classification__criterion',\n",
       " 'classification__max_depth',\n",
       " 'classification__max_features',\n",
       " 'classification__max_leaf_nodes',\n",
       " 'classification__max_samples',\n",
       " 'classification__min_impurity_decrease',\n",
       " 'classification__min_impurity_split',\n",
       " 'classification__min_samples_leaf',\n",
       " 'classification__min_samples_split',\n",
       " 'classification__min_weight_fraction_leaf',\n",
       " 'classification__n_estimators',\n",
       " 'classification__n_jobs',\n",
       " 'classification__oob_score',\n",
       " 'classification__random_state',\n",
       " 'classification__verbose',\n",
       " 'classification__warm_start',\n",
       " 'memory',\n",
       " 'sampling',\n",
       " 'sampling__k_neighbors',\n",
       " 'sampling__n_jobs',\n",
       " 'sampling__random_state',\n",
       " 'sampling__sampling_strategy',\n",
       " 'steps',\n",
       " 'verbose']"
      ]
     },
     "execution_count": 24,
     "metadata": {},
     "output_type": "execute_result"
    }
   ],
   "source": [
    "sorted(model.get_params().keys())"
   ]
  },
  {
   "cell_type": "code",
   "execution_count": 25,
   "metadata": {
    "scrolled": false
   },
   "outputs": [
    {
     "name": "stdout",
     "output_type": "stream",
     "text": [
      "Fitting 5 folds for each of 243 candidates, totalling 1215 fits\n"
     ]
    },
    {
     "name": "stderr",
     "output_type": "stream",
     "text": [
      "/opt/anaconda3/envs/PythonData/lib/python3.6/site-packages/sklearn/model_selection/_split.py:672: UserWarning: The least populated class in y has only 3 members, which is less than n_splits=5.\n",
      "  % (min_groups, self.n_splits)), UserWarning)\n",
      "[Parallel(n_jobs=-1)]: Using backend LokyBackend with 16 concurrent workers.\n",
      "[Parallel(n_jobs=-1)]: Done   9 tasks      | elapsed:    1.5s\n",
      "[Parallel(n_jobs=-1)]: Done 130 tasks      | elapsed:    4.7s\n",
      "[Parallel(n_jobs=-1)]: Done 333 tasks      | elapsed:   10.5s\n",
      "[Parallel(n_jobs=-1)]: Done 616 tasks      | elapsed:   19.2s\n",
      "[Parallel(n_jobs=-1)]: Done 981 tasks      | elapsed:   30.7s\n",
      "[Parallel(n_jobs=-1)]: Done 1215 out of 1215 | elapsed:   39.3s finished\n"
     ]
    },
    {
     "data": {
      "text/plain": [
       "{'classification__bootstrap': True,\n",
       " 'classification__max_depth': 10,\n",
       " 'classification__max_features': 2,\n",
       " 'classification__min_samples_leaf': 3,\n",
       " 'classification__min_samples_split': 8,\n",
       " 'classification__n_estimators': 200}"
      ]
     },
     "execution_count": 25,
     "metadata": {},
     "output_type": "execute_result"
    }
   ],
   "source": [
    "# grid = GridSearchCV(model, params, ...)\n",
    "# grid.fit(X, y)\n",
    "\n",
    "## Random Forest Tuning\n",
    "# Create the GridSearchCV model\n",
    "from sklearn.model_selection import GridSearchCV\n",
    "\n",
    "param_grid = {\n",
    "    'classification__bootstrap': [True],\n",
    "    'classification__max_depth': [10,20,30],\n",
    "    'classification__max_features': [2,3,4],\n",
    "    'classification__min_samples_leaf': [3, 4, 5],\n",
    "    'classification__min_samples_split': [8, 10, 12],\n",
    "    'classification__n_estimators': [200,300, 1000]\n",
    "#         'bootstrap': [True],\n",
    "#     'max_depth': [10,20,30],\n",
    "#     'max_features': [2,3,4],\n",
    "#     'min_samples_leaf': [3, 4, 5],\n",
    "#     'min_samples_split': [8, 10, 12],\n",
    "#     'n_estimators': [200, 300, 1000]\n",
    "}\n",
    "# # Create a based model\n",
    "# rf = RandomForestClassifier()\n",
    "# # Instantiate the grid search model\n",
    "# # grid_search = GridSearchCV(estimator = rf, param_grid = param_grid, \n",
    "# #                           cv = 3, n_jobs = -1, verbose = 2)\n",
    "grid_search = GridSearchCV(estimator = model, param_grid = param_grid, \n",
    "                             n_jobs = -1, verbose = 2)\n",
    "# Train the model with GridSearch\n",
    "grid_search.fit(X_train, y_train)\n",
    "grid_search.best_params_\n"
   ]
  },
  {
   "cell_type": "code",
   "execution_count": 26,
   "metadata": {
    "scrolled": true
   },
   "outputs": [
    {
     "name": "stdout",
     "output_type": "stream",
     "text": [
      "Pipeline(steps=[('sampling', SMOTE(k_neighbors=2, random_state=42)),\n",
      "                ('classification',\n",
      "                 RandomForestClassifier(max_depth=10, max_features=2,\n",
      "                                        min_samples_leaf=3, min_samples_split=8,\n",
      "                                        n_estimators=200))])\n"
     ]
    }
   ],
   "source": [
    "best_grid = grid_search.best_estimator_\n",
    "# print(f\"Training Data Score: {best_grid.score(X_train_minmax, y_train)}\")\n",
    "# print(f\"Testing Data Score: {best_grid.score(X_test_minmax, y_test)}\")\n",
    "print(best_grid)\n"
   ]
  },
  {
   "cell_type": "code",
   "execution_count": 27,
   "metadata": {},
   "outputs": [
    {
     "name": "stdout",
     "output_type": "stream",
     "text": [
      "SMOTE Classification Report--test\n",
      "                   pre       rec       spe        f1       geo       iba       sup\n",
      "\n",
      "          f       0.86      0.67      0.50      0.75      0.58      0.34         9\n",
      "          t       0.25      0.50      0.67      0.33      0.58      0.33         2\n",
      "\n",
      "avg / total       0.75      0.64      0.53      0.67      0.58      0.34        11\n",
      "\n",
      "SMOTE Classification Report--train\n",
      "                   pre       rec       spe        f1       geo       iba       sup\n",
      "\n",
      "          f       1.00      1.00      1.00      1.00      1.00      1.00        30\n",
      "          t       1.00      1.00      1.00      1.00      1.00      1.00         3\n",
      "\n",
      "avg / total       1.00      1.00      1.00      1.00      1.00      1.00        33\n",
      "\n"
     ]
    }
   ],
   "source": [
    "# best_model_rf= best_grid.fit(X_train,y_train)\n",
    "# print(f\"Training Data Score: {best_model_rf.score(X_train, y_train)}\")\n",
    "# print(f\"Testing Data Score: {best_model_rf.score(X_test, y_test)}\")\n",
    "# # print(f\"Training Data Score: {best_grid.score(X_train_minmax, y_train)}\")\n",
    "# # print(f\"Testing Data Score: {best_grid.score(X_test_minmax, y_test)}\")\n",
    "print(\"SMOTE Classification Report--test\")\n",
    "print(classification_report_imbalanced(y_test, best_grid.predict(X_test)))\n",
    "\n",
    "print(\"SMOTE Classification Report--train\")\n",
    "print(classification_report_imbalanced(y_train, best_grid.predict(X_train)))\n",
    "\n"
   ]
  },
  {
   "cell_type": "code",
   "execution_count": 28,
   "metadata": {
    "scrolled": false
   },
   "outputs": [],
   "source": [
    "# print(grid_search.best_params_)\n",
    "# print(grid_search.best_score_)\n",
    "# best_grid[1].feature_importances_"
   ]
  },
  {
   "cell_type": "code",
   "execution_count": 29,
   "metadata": {},
   "outputs": [],
   "source": [
    "# best_model_rf= best_grid[1].fit(X_train,y_train)\n",
    "# print(best_model_rf)"
   ]
  },
  {
   "cell_type": "code",
   "execution_count": 30,
   "metadata": {
    "scrolled": true
   },
   "outputs": [
    {
     "data": {
      "text/html": [
       "<div>\n",
       "<style scoped>\n",
       "    .dataframe tbody tr th:only-of-type {\n",
       "        vertical-align: middle;\n",
       "    }\n",
       "\n",
       "    .dataframe tbody tr th {\n",
       "        vertical-align: top;\n",
       "    }\n",
       "\n",
       "    .dataframe thead th {\n",
       "        text-align: right;\n",
       "    }\n",
       "</style>\n",
       "<table border=\"1\" class=\"dataframe\">\n",
       "  <thead>\n",
       "    <tr style=\"text-align: right;\">\n",
       "      <th></th>\n",
       "      <th>feature</th>\n",
       "      <th>importance</th>\n",
       "    </tr>\n",
       "  </thead>\n",
       "  <tbody>\n",
       "    <tr>\n",
       "      <th>0</th>\n",
       "      <td>patient_age_quantile</td>\n",
       "      <td>0.151722</td>\n",
       "    </tr>\n",
       "    <tr>\n",
       "      <th>1</th>\n",
       "      <td>hematocrit</td>\n",
       "      <td>0.029294</td>\n",
       "    </tr>\n",
       "    <tr>\n",
       "      <th>2</th>\n",
       "      <td>hemoglobin</td>\n",
       "      <td>0.038369</td>\n",
       "    </tr>\n",
       "    <tr>\n",
       "      <th>3</th>\n",
       "      <td>mean_platelet_volume</td>\n",
       "      <td>0.057654</td>\n",
       "    </tr>\n",
       "    <tr>\n",
       "      <th>4</th>\n",
       "      <td>red_blood_cells</td>\n",
       "      <td>0.021475</td>\n",
       "    </tr>\n",
       "    <tr>\n",
       "      <th>5</th>\n",
       "      <td>lymphocytes</td>\n",
       "      <td>0.153828</td>\n",
       "    </tr>\n",
       "    <tr>\n",
       "      <th>6</th>\n",
       "      <td>mean_corpuscular_hemoglobin_mch</td>\n",
       "      <td>0.072195</td>\n",
       "    </tr>\n",
       "    <tr>\n",
       "      <th>7</th>\n",
       "      <td>monocytes</td>\n",
       "      <td>0.032082</td>\n",
       "    </tr>\n",
       "    <tr>\n",
       "      <th>8</th>\n",
       "      <td>red_blood_cell_distribution_width_rdw</td>\n",
       "      <td>0.016590</td>\n",
       "    </tr>\n",
       "    <tr>\n",
       "      <th>9</th>\n",
       "      <td>neutrophils</td>\n",
       "      <td>0.186324</td>\n",
       "    </tr>\n",
       "    <tr>\n",
       "      <th>10</th>\n",
       "      <td>urea</td>\n",
       "      <td>0.071775</td>\n",
       "    </tr>\n",
       "    <tr>\n",
       "      <th>11</th>\n",
       "      <td>proteina_c_reativa_mg_dl</td>\n",
       "      <td>0.168692</td>\n",
       "    </tr>\n",
       "  </tbody>\n",
       "</table>\n",
       "</div>"
      ],
      "text/plain": [
       "                                  feature  importance\n",
       "0                    patient_age_quantile    0.151722\n",
       "1                              hematocrit    0.029294\n",
       "2                              hemoglobin    0.038369\n",
       "3                    mean_platelet_volume    0.057654\n",
       "4                         red_blood_cells    0.021475\n",
       "5                             lymphocytes    0.153828\n",
       "6         mean_corpuscular_hemoglobin_mch    0.072195\n",
       "7                               monocytes    0.032082\n",
       "8   red_blood_cell_distribution_width_rdw    0.016590\n",
       "9                             neutrophils    0.186324\n",
       "10                                   urea    0.071775\n",
       "11               proteina_c_reativa_mg_dl    0.168692"
      ]
     },
     "execution_count": 30,
     "metadata": {},
     "output_type": "execute_result"
    }
   ],
   "source": [
    "feature_importance= pd.DataFrame({\n",
    "    \"feature\": X.columns.to_list(),\n",
    "    \"importance\": best_grid[1].feature_importances_\n",
    "    \n",
    "})\n",
    "feature_importance"
   ]
  },
  {
   "cell_type": "code",
   "execution_count": 31,
   "metadata": {},
   "outputs": [],
   "source": [
    "feature_importance= feature_importance.sort_values(by=\"importance\", ascending=False)"
   ]
  },
  {
   "cell_type": "code",
   "execution_count": 32,
   "metadata": {},
   "outputs": [
    {
     "data": {
      "text/plain": [
       "<matplotlib.axes._subplots.AxesSubplot at 0x7fe85209cfd0>"
      ]
     },
     "execution_count": 32,
     "metadata": {},
     "output_type": "execute_result"
    },
    {
     "data": {
      "image/png": "[encoded data removed]",
      "text/plain": [
       "<Figure size 432x288 with 1 Axes>"
      ]
     },
     "metadata": {
      "needs_background": "light"
     },
     "output_type": "display_data"
    }
   ],
   "source": [
    "feature_importance.plot.bar(x=\"feature\",y=\"importance\")"
   ]
  },
  {
   "cell_type": "code",
   "execution_count": 33,
   "metadata": {},
   "outputs": [
    {
     "name": "stdout",
     "output_type": "stream",
     "text": [
      "              precision    recall  f1-score   support\n",
      "\n",
      "           f       0.97      0.92      0.95        39\n",
      "           t       0.57      0.80      0.67         5\n",
      "\n",
      "    accuracy                           0.91        44\n",
      "   macro avg       0.77      0.86      0.81        44\n",
      "weighted avg       0.93      0.91      0.92        44\n",
      "\n"
     ]
    }
   ],
   "source": [
    "from sklearn.metrics import classification_report\n",
    "\n",
    "y_pred = best_grid.predict(X)\n",
    "\n",
    "print(classification_report(y, y_pred))\n"
   ]
  },
  {
   "cell_type": "markdown",
   "metadata": {},
   "source": [
    "# CREATE MLFlow"
   ]
  },
  {
   "cell_type": "code",
   "execution_count": 34,
   "metadata": {},
   "outputs": [],
   "source": [
    "!rm -rf saved_model_ICU"
   ]
  },
  {
   "cell_type": "code",
   "execution_count": 36,
   "metadata": {},
   "outputs": [
    {
     "ename": "TypeError",
     "evalue": "fit() missing 1 required positional argument: 'y'",
     "output_type": "error",
     "traceback": [
      "\u001b[0;31m---------------------------------------------------------------------------\u001b[0m",
      "\u001b[0;31mTypeError\u001b[0m                                 Traceback (most recent call last)",
      "\u001b[0;32m<ipython-input-36-6a8e71ef4ec5>\u001b[0m in \u001b[0;36m<module>\u001b[0;34m\u001b[0m\n\u001b[1;32m      7\u001b[0m         \u001b[0mrun_id\u001b[0m \u001b[0;34m=\u001b[0m \u001b[0mrun\u001b[0m\u001b[0;34m.\u001b[0m\u001b[0minfo\u001b[0m\u001b[0;34m.\u001b[0m\u001b[0mrun_id\u001b[0m\u001b[0;34m\u001b[0m\u001b[0;34m\u001b[0m\u001b[0m\n\u001b[1;32m      8\u001b[0m         \u001b[0mmodel\u001b[0m \u001b[0;34m=\u001b[0m \u001b[0mclassifier\u001b[0m\u001b[0;34m\u001b[0m\u001b[0;34m\u001b[0m\u001b[0m\n\u001b[0;32m----> 9\u001b[0;31m         \u001b[0mmodel\u001b[0m\u001b[0;34m.\u001b[0m\u001b[0mfit\u001b[0m\u001b[0;34m(\u001b[0m\u001b[0mX_train\u001b[0m\u001b[0;34m,\u001b[0m \u001b[0my_train\u001b[0m\u001b[0;34m)\u001b[0m\u001b[0;34m\u001b[0m\u001b[0;34m\u001b[0m\u001b[0m\n\u001b[0m\u001b[1;32m     10\u001b[0m \u001b[0;34m\u001b[0m\u001b[0m\n\u001b[1;32m     11\u001b[0m \tmlflow.log_params({\n",
      "\u001b[0;31mTypeError\u001b[0m: fit() missing 1 required positional argument: 'y'"
     ]
    }
   ],
   "source": [
    "import mlflow\n",
    "import mlflow.sklearn\n",
    "from sklearn.metrics import f1_score, recall_score, precision_score\n",
    "\n",
    "name = \"ICU-RandomForest\"\n",
    "with mlflow.start_run(run_name=name) as run:\n",
    "\trun_id = run.info.run_id\n",
    "\tmodel = classifier\n",
    "\tmodel.fit(X_train, y_train)\n",
    "\t\n",
    "\tmlflow.log_params({\n",
    "\t\t\"model name\": \"Random Forest\",\n",
    "\t})\n",
    "\tmlflow.log_metrics({\n",
    "\t\t\"f1_t\": f1_score(y_test, model.predict(X_test), pos_label=\"t\"),\n",
    "\t\t\"f1_f\": f1_score(y_test, model.predict(X_test), pos_label=\"f\"),\n",
    "\t\t\"recall_t\": recall_score(y_test, model.predict(X_test), pos_label=\"t\"),\n",
    "\t\t\"recall_f\": recall_score(y_test, model.predict(X_test), pos_label=\"f\"),\n",
    "\t\t\"precision\": precision_score(y_test, model.predict(X_test), pos_label=\"t\")\n",
    "\t})\n",
    "\t\n",
    "\tmlflow.sklearn.save_model(model, \"Model-ICU\", \n",
    "\t\t\t\t\t\t  serialization_format=mlflow.sklearn.SERIALIZATION_FORMAT_CLOUDPICKLE)\n",
    "\tmlflow.log_artifact(\"Model-ICU\")"
   ]
  },
  {
   "cell_type": "code",
   "execution_count": null,
   "metadata": {},
   "outputs": [],
   "source": []
  }
 ],
 "metadata": {
  "kernel_info": {
   "name": "dev"
  },
  "kernelspec": {
   "display_name": "Python 3",
   "language": "python",
   "name": "python3"
  },
  "language_info": {
   "codemirror_mode": {
    "name": "ipython",
    "version": 3
   },
   "file_extension": ".py",
   "mimetype": "text/x-python",
   "name": "python",
   "nbconvert_exporter": "python",
   "pygments_lexer": "ipython3",
   "version": "3.6.10"
  },
  "nteract": {
   "version": "0.12.3"
  }
 },
 "nbformat": 4,
 "nbformat_minor": 2
}
