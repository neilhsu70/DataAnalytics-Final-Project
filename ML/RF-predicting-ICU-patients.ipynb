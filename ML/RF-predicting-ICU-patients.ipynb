{
 "cells": [
  {
   "cell_type": "code",
   "execution_count": null,
   "metadata": {},
   "outputs": [],
   "source": [
    "# Update sklearn to prevent version mismatches\n",
    "#!pip install sklearn --upgrade"
   ]
  },
  {
   "cell_type": "code",
   "execution_count": null,
   "metadata": {},
   "outputs": [],
   "source": [
    "# install joblib. This will be used to save your model. \n",
    "# Restart your kernel after installing \n",
    "#!pip install joblib"
   ]
  },
  {
   "cell_type": "code",
   "execution_count": 173,
   "metadata": {},
   "outputs": [],
   "source": [
    "import pandas as pd\n",
    "import numpy as np"
   ]
  },
  {
   "cell_type": "code",
   "execution_count": 174,
   "metadata": {},
   "outputs": [],
   "source": [
    "pd.options.display.max_rows = 4000"
   ]
  },
  {
   "cell_type": "markdown",
   "metadata": {},
   "source": [
    "# Read the CSV and Perform Basic Data Cleaning"
   ]
  },
  {
   "cell_type": "code",
   "execution_count": 175,
   "metadata": {
    "scrolled": true
   },
   "outputs": [],
   "source": [
    "df = pd.read_csv(\"diagnosis-of-covid-19-and-its-clinical-spectrum.csv\")\n",
    "# Drop the null columns where all values are null\n",
    "# df = df.dropna(axis='columns', how='all')\n",
    "# Drop the null rows\n",
    "# df = df.dropna()\n",
    "df.head()\n",
    "df_positive = df.loc[df[\"sars_cov_2_exam_result\"]==\"positive\"]"
   ]
  },
  {
   "cell_type": "code",
   "execution_count": 176,
   "metadata": {
    "scrolled": false
   },
   "outputs": [
    {
     "data": {
      "text/plain": [
       "patient_id                                             object\n",
       "patient_age_quantile                                    int64\n",
       "sars_cov_2_exam_result                                 object\n",
       "patient_addmited_to_regular_ward_1_yes_0_no            object\n",
       "patient_addmited_to_semi_intensive_unit_1_yes_0_no     object\n",
       "patient_addmited_to_intensive_care_unit_1_yes_0_no     object\n",
       "hematocrit                                            float64\n",
       "hemoglobin                                            float64\n",
       "platelets                                             float64\n",
       "mean_platelet_volume                                  float64\n",
       "red_blood_cells                                       float64\n",
       "lymphocytes                                           float64\n",
       "mean_corpuscular_hemoglobin_concentration_mchc        float64\n",
       "leukocytes                                            float64\n",
       "basophils                                             float64\n",
       "mean_corpuscular_hemoglobin_mch                       float64\n",
       "eosinophils                                           float64\n",
       "mean_corpuscular_volume_mcv                           float64\n",
       "monocytes                                             float64\n",
       "red_blood_cell_distribution_width_rdw                 float64\n",
       "serum_glucose                                         float64\n",
       "respiratory_syncytial_virus                            object\n",
       "influenza_a                                            object\n",
       "influenza_b                                            object\n",
       "parainfluenza_1                                        object\n",
       "coronavirusnl63                                        object\n",
       "rhinovirus_enterovirus                                 object\n",
       "mycoplasma_pneumoniae                                 float64\n",
       "coronavirus_hku1                                       object\n",
       "parainfluenza_3                                        object\n",
       "chlamydophila_pneumoniae                               object\n",
       "adenovirus                                             object\n",
       "parainfluenza_4                                        object\n",
       "coronavirus229e                                        object\n",
       "coronavirusoc43                                        object\n",
       "inf_a_h1n1_2009                                        object\n",
       "bordetella_pertussis                                   object\n",
       "metapneumovirus                                        object\n",
       "parainfluenza_2                                        object\n",
       "neutrophils                                           float64\n",
       "urea                                                  float64\n",
       "proteina_c_reativa_mg_dl                              float64\n",
       "creatinine                                            float64\n",
       "potassium                                             float64\n",
       "sodium                                                float64\n",
       "influenza_b_rapid_test                                 object\n",
       "influenza_a_rapid_test                                 object\n",
       "alanine_transaminase                                  float64\n",
       "aspartate_transaminase                                float64\n",
       "gamma_glutamyltransferase                             float64\n",
       "total_bilirubin                                       float64\n",
       "direct_bilirubin                                      float64\n",
       "indirect_bilirubin                                    float64\n",
       "alkaline_phosphatase                                  float64\n",
       "ionized_calcium                                       float64\n",
       "strepto_a                                              object\n",
       "magnesium                                             float64\n",
       "pco2_venous_blood_gas_analysis                        float64\n",
       "hb_saturation_venous_blood_gas_analysis               float64\n",
       "base_excess_venous_blood_gas_analysis                 float64\n",
       "po2_venous_blood_gas_analysis                         float64\n",
       "fio2_venous_blood_gas_analysis                        float64\n",
       "total_co2_venous_blood_gas_analysis                   float64\n",
       "ph_venous_blood_gas_analysis                          float64\n",
       "hco3_venous_blood_gas_analysis                        float64\n",
       "rods                                                  float64\n",
       "segmented                                             float64\n",
       "promyelocytes                                         float64\n",
       "metamyelocytes                                        float64\n",
       "myelocytes                                            float64\n",
       "myeloblasts                                            object\n",
       "urine_esterase                                         object\n",
       "urine_aspect                                           object\n",
       "urine_ph                                               object\n",
       "urine_hemoglobin                                       object\n",
       "urine_bile_pigments                                    object\n",
       "urine_ketone_bodies                                    object\n",
       "urine_nitrite                                          object\n",
       "urine_density                                         float64\n",
       "urine_urobilinogen                                     object\n",
       "urine_protein                                          object\n",
       "urine_sugar                                           float64\n",
       "urine_leukocytes                                       object\n",
       "urine_crystals                                         object\n",
       "urine_red_blood_cells                                 float64\n",
       "urine_hyaline_cylinders                                object\n",
       "urine_granular_cylinders                               object\n",
       "urine_yeasts                                           object\n",
       "urine_color                                            object\n",
       "partial_thromboplastin_time_ptt                       float64\n",
       "relationship_patient_normal                           float64\n",
       "international_normalized_ratio_inr                    float64\n",
       "lactic_dehydrogenase                                  float64\n",
       "prothrombin_time_pt_activity                          float64\n",
       "vitamin_b12                                           float64\n",
       "creatine_phosphokinase_cpk                            float64\n",
       "ferritin                                              float64\n",
       "arterial_lactic_acid                                  float64\n",
       "lipase_dosage                                         float64\n",
       "d_dimer                                               float64\n",
       "albumin                                               float64\n",
       "hb_saturation_arterial_blood_gases                    float64\n",
       "pco2_arterial_blood_gas_analysis                      float64\n",
       "base_excess_arterial_blood_gas_analysis               float64\n",
       "ph_arterial_blood_gas_analysis                        float64\n",
       "total_co2_arterial_blood_gas_analysis                 float64\n",
       "hco3_arterial_blood_gas_analysis                      float64\n",
       "po2_arterial_blood_gas_analysis                       float64\n",
       "arteiral_fio2                                         float64\n",
       "phosphor                                              float64\n",
       "cto2_arterial_blood_gas_analysis                      float64\n",
       "dtype: object"
      ]
     },
     "execution_count": 176,
     "metadata": {},
     "output_type": "execute_result"
    }
   ],
   "source": [
    "df_positive.dtypes"
   ]
  },
  {
   "cell_type": "code",
   "execution_count": 22,
   "metadata": {
    "scrolled": false
   },
   "outputs": [
    {
     "data": {
      "text/plain": [
       "patient_id                                            558\n",
       "patient_age_quantile                                  558\n",
       "sars_cov_2_exam_result                                558\n",
       "patient_addmited_to_regular_ward_1_yes_0_no           558\n",
       "patient_addmited_to_semi_intensive_unit_1_yes_0_no    558\n",
       "patient_addmited_to_intensive_care_unit_1_yes_0_no    558\n",
       "hematocrit                                             83\n",
       "hemoglobin                                             83\n",
       "platelets                                              83\n",
       "mean_platelet_volume                                   81\n",
       "red_blood_cells                                        83\n",
       "lymphocytes                                            83\n",
       "mean_corpuscular_hemoglobin_concentration_mchc         83\n",
       "leukocytes                                             83\n",
       "basophils                                              83\n",
       "mean_corpuscular_hemoglobin_mch                        83\n",
       "eosinophils                                            83\n",
       "mean_corpuscular_volume_mcv                            83\n",
       "monocytes                                              83\n",
       "red_blood_cell_distribution_width_rdw                  83\n",
       "serum_glucose                                          33\n",
       "respiratory_syncytial_virus                           112\n",
       "influenza_a                                           112\n",
       "influenza_b                                           112\n",
       "parainfluenza_1                                       112\n",
       "coronavirusnl63                                       112\n",
       "rhinovirus_enterovirus                                112\n",
       "mycoplasma_pneumoniae                                   0\n",
       "coronavirus_hku1                                      112\n",
       "parainfluenza_3                                       112\n",
       "chlamydophila_pneumoniae                              112\n",
       "adenovirus                                            112\n",
       "parainfluenza_4                                       112\n",
       "coronavirus229e                                       112\n",
       "coronavirusoc43                                       112\n",
       "inf_a_h1n1_2009                                       112\n",
       "bordetella_pertussis                                  112\n",
       "metapneumovirus                                       112\n",
       "parainfluenza_2                                       112\n",
       "neutrophils                                            75\n",
       "urea                                                   59\n",
       "proteina_c_reativa_mg_dl                               70\n",
       "creatinine                                             62\n",
       "potassium                                              58\n",
       "sodium                                                 58\n",
       "influenza_b_rapid_test                                 62\n",
       "influenza_a_rapid_test                                 62\n",
       "alanine_transaminase                                   40\n",
       "aspartate_transaminase                                 40\n",
       "gamma_glutamyltransferase                              30\n",
       "total_bilirubin                                        40\n",
       "direct_bilirubin                                       40\n",
       "indirect_bilirubin                                     40\n",
       "alkaline_phosphatase                                   29\n",
       "ionized_calcium                                         6\n",
       "strepto_a                                              14\n",
       "magnesium                                               5\n",
       "pco2_venous_blood_gas_analysis                         20\n",
       "hb_saturation_venous_blood_gas_analysis                20\n",
       "base_excess_venous_blood_gas_analysis                  20\n",
       "po2_venous_blood_gas_analysis                          20\n",
       "fio2_venous_blood_gas_analysis                          0\n",
       "total_co2_venous_blood_gas_analysis                    20\n",
       "ph_venous_blood_gas_analysis                           20\n",
       "hco3_venous_blood_gas_analysis                         20\n",
       "rods                                                    9\n",
       "segmented                                               9\n",
       "promyelocytes                                           9\n",
       "metamyelocytes                                          9\n",
       "myelocytes                                              9\n",
       "myeloblasts                                             9\n",
       "urine_esterase                                         11\n",
       "urine_aspect                                           12\n",
       "urine_ph                                               12\n",
       "urine_hemoglobin                                       12\n",
       "urine_bile_pigments                                    12\n",
       "urine_ketone_bodies                                     9\n",
       "urine_nitrite                                           0\n",
       "urine_density                                          12\n",
       "urine_urobilinogen                                     12\n",
       "urine_protein                                          10\n",
       "urine_sugar                                             0\n",
       "urine_leukocytes                                       12\n",
       "urine_crystals                                         12\n",
       "urine_red_blood_cells                                  12\n",
       "urine_hyaline_cylinders                                11\n",
       "urine_granular_cylinders                               12\n",
       "urine_yeasts                                           12\n",
       "urine_color                                            12\n",
       "partial_thromboplastin_time_ptt                         0\n",
       "relationship_patient_normal                            15\n",
       "international_normalized_ratio_inr                     23\n",
       "lactic_dehydrogenase                                   26\n",
       "prothrombin_time_pt_activity                            0\n",
       "vitamin_b12                                             0\n",
       "creatine_phosphokinase_cpk                             23\n",
       "ferritin                                                2\n",
       "arterial_lactic_acid                                   13\n",
       "lipase_dosage                                           3\n",
       "d_dimer                                                 0\n",
       "albumin                                                 0\n",
       "hb_saturation_arterial_blood_gases                     13\n",
       "pco2_arterial_blood_gas_analysis                       13\n",
       "base_excess_arterial_blood_gas_analysis                13\n",
       "ph_arterial_blood_gas_analysis                         13\n",
       "total_co2_arterial_blood_gas_analysis                  13\n",
       "hco3_arterial_blood_gas_analysis                       13\n",
       "po2_arterial_blood_gas_analysis                        13\n",
       "arteiral_fio2                                           9\n",
       "phosphor                                                1\n",
       "cto2_arterial_blood_gas_analysis                       13\n",
       "dtype: int64"
      ]
     },
     "execution_count": 22,
     "metadata": {},
     "output_type": "execute_result"
    }
   ],
   "source": [
    "df_positive.count()\n"
   ]
  },
  {
   "cell_type": "code",
   "execution_count": null,
   "metadata": {},
   "outputs": [],
   "source": [
    "df_positive.isnull().sum()"
   ]
  },
  {
   "cell_type": "code",
   "execution_count": 177,
   "metadata": {
    "scrolled": true
   },
   "outputs": [
    {
     "data": {
      "text/plain": [
       "patient_addmited_to_intensive_care_unit_1_yes_0_no    44\n",
       "patient_age_quantile                                  44\n",
       "hematocrit                                            44\n",
       "hemoglobin                                            44\n",
       "platelets                                             44\n",
       "mean_platelet_volume                                  44\n",
       "red_blood_cells                                       44\n",
       "lymphocytes                                           44\n",
       "basophils                                             44\n",
       "mean_corpuscular_hemoglobin_mch                       44\n",
       "eosinophils                                           44\n",
       "mean_corpuscular_volume_mcv                           44\n",
       "monocytes                                             44\n",
       "red_blood_cell_distribution_width_rdw                 44\n",
       "neutrophils                                           44\n",
       "urea                                                  44\n",
       "proteina_c_reativa_mg_dl                              44\n",
       "dtype: int64"
      ]
     },
     "execution_count": 177,
     "metadata": {},
     "output_type": "execute_result"
    }
   ],
   "source": [
    "df_positive_selected_features = (df_positive[[\"patient_addmited_to_intensive_care_unit_1_yes_0_no\",\n",
    "                                              \"patient_age_quantile\",\n",
    "                                              \"hematocrit\",\n",
    "                                              \"hemoglobin\",\n",
    "                                              \"platelets\",\n",
    "                                              \"mean_platelet_volume\",\n",
    "                                              \"red_blood_cells\",\n",
    "                                              \"lymphocytes\",\n",
    "                                              \"basophils\",\n",
    "                                              \"mean_corpuscular_hemoglobin_mch\",\n",
    "                                              \"eosinophils\",\n",
    "                                              \"mean_corpuscular_volume_mcv\",\n",
    "                                              \"monocytes\",\n",
    "                                              \"red_blood_cell_distribution_width_rdw\",\n",
    "                                              \"neutrophils\",\n",
    "                                              \"urea\",\n",
    "                                              \"proteina_c_reativa_mg_dl\",\n",
    "#                                               \"creatinine\",\n",
    "#                                               \"potassium\",\n",
    "#                                               \"sodium\",\n",
    "#                                               \"influenza_b_rapid_test\",\n",
    "#                                               \"influenza_a_rapid_test\"\n",
    "#                                               \"serum_glucose\",\n",
    "#                                               \"coronavirus_hku1\",\n",
    "#                                               \"influenza_a\",\n",
    "#                                               \"influenza_b\",\n",
    "#                                               \"parainfluenza_1\",\n",
    "#                                               \"coronavirusnl63\",\n",
    "#                                               \"coronavirusoc43\",\n",
    "#                                               \"chlamydophila_pneumoniae\",\n",
    "#                                               \"adenovirus\",\"parainfluenza_4\",\n",
    "#                                               \"coronavirusoc43\"\n",
    "                                             ]])\n",
    "\n",
    "df_positive_selected_features_drop = df_positive_selected_features.dropna()\n",
    "df_positive_selected_features_drop.count()\n"
   ]
  },
  {
   "cell_type": "markdown",
   "metadata": {},
   "source": [
    "# Select your features (columns)"
   ]
  },
  {
   "cell_type": "code",
   "execution_count": 178,
   "metadata": {},
   "outputs": [
    {
     "data": {
      "text/plain": [
       "(44, 16)"
      ]
     },
     "execution_count": 178,
     "metadata": {},
     "output_type": "execute_result"
    }
   ],
   "source": [
    "# Set features. This will also be used as your x values.\n",
    "#selected_features = df[['names', 'of', 'selected', 'features', 'here']]\n",
    "# X= df_positive.drop([\"patient_addmited_to_intensive_care_unit_1_yes_0_no\",\"sars_cov_2_exam_result\",\"patient_id\",\"patient_addmited_to_regular_ward_1_yes_0_no\",\"patient_addmited_to_semi_intensive_unit_1_yes_0_no\"], axis=1)\n",
    "X=df_positive_selected_features_drop.drop(\"patient_addmited_to_intensive_care_unit_1_yes_0_no\", axis =1)\n",
    "# y= df[[\"koi_disposition\"]].values.reshape(-1, 1)\n",
    "# y= df_positive[\"patient_addmited_to_intensive_care_unit_1_yes_0_no\"]\n",
    "y= df_positive_selected_features_drop[\"patient_addmited_to_intensive_care_unit_1_yes_0_no\"]\n",
    "\n",
    "\n",
    "X.shape\n",
    "\n"
   ]
  },
  {
   "cell_type": "code",
   "execution_count": 179,
   "metadata": {},
   "outputs": [
    {
     "data": {
      "text/plain": [
       "f    39\n",
       "t     5\n",
       "Name: patient_addmited_to_intensive_care_unit_1_yes_0_no, dtype: int64"
      ]
     },
     "execution_count": 179,
     "metadata": {},
     "output_type": "execute_result"
    }
   ],
   "source": [
    "y.value_counts()"
   ]
  },
  {
   "cell_type": "code",
   "execution_count": 180,
   "metadata": {},
   "outputs": [],
   "source": [
    "from sklearn.pipeline import make_pipeline\n",
    "from sklearn.linear_model import LinearRegression\n",
    "from sklearn.preprocessing import StandardScaler, OneHotEncoder\n",
    "from sklearn.model_selection import train_test_split\n",
    "\n"
   ]
  },
  {
   "cell_type": "code",
   "execution_count": 181,
   "metadata": {},
   "outputs": [],
   "source": [
    "# from sklearn.compose import ColumnTransformer\n",
    "# from sklearn.compose import make_column_transformer\n",
    "# from sklearn.compose import make_column_selector\n",
    "\n",
    "# ct = make_column_transformer(\n",
    "# #     (StandardScaler(), make_column_selector(dtype_include=np.number)),\n",
    "#     (OneHotEncoder(), make_column_selector(dtype_include=object))\n",
    "# )\n",
    "# ct.fit_transform(X)"
   ]
  },
  {
   "cell_type": "code",
   "execution_count": 182,
   "metadata": {},
   "outputs": [],
   "source": [
    "# X"
   ]
  },
  {
   "cell_type": "markdown",
   "metadata": {},
   "source": [
    "# Create a Train Test Split\n"
   ]
  },
  {
   "cell_type": "code",
   "execution_count": 183,
   "metadata": {},
   "outputs": [
    {
     "data": {
      "text/html": [
       "<div>\n",
       "<style scoped>\n",
       "    .dataframe tbody tr th:only-of-type {\n",
       "        vertical-align: middle;\n",
       "    }\n",
       "\n",
       "    .dataframe tbody tr th {\n",
       "        vertical-align: top;\n",
       "    }\n",
       "\n",
       "    .dataframe thead th {\n",
       "        text-align: right;\n",
       "    }\n",
       "</style>\n",
       "<table border=\"1\" class=\"dataframe\">\n",
       "  <thead>\n",
       "    <tr style=\"text-align: right;\">\n",
       "      <th></th>\n",
       "      <th>patient_age_quantile</th>\n",
       "      <th>hematocrit</th>\n",
       "      <th>hemoglobin</th>\n",
       "      <th>platelets</th>\n",
       "      <th>mean_platelet_volume</th>\n",
       "      <th>red_blood_cells</th>\n",
       "      <th>lymphocytes</th>\n",
       "      <th>basophils</th>\n",
       "      <th>mean_corpuscular_hemoglobin_mch</th>\n",
       "      <th>eosinophils</th>\n",
       "      <th>mean_corpuscular_volume_mcv</th>\n",
       "      <th>monocytes</th>\n",
       "      <th>red_blood_cell_distribution_width_rdw</th>\n",
       "      <th>neutrophils</th>\n",
       "      <th>urea</th>\n",
       "      <th>proteina_c_reativa_mg_dl</th>\n",
       "    </tr>\n",
       "  </thead>\n",
       "  <tbody>\n",
       "    <tr>\n",
       "      <td>5204</td>\n",
       "      <td>13</td>\n",
       "      <td>0.350958</td>\n",
       "      <td>0.416252</td>\n",
       "      <td>-1.936897</td>\n",
       "      <td>1.917961</td>\n",
       "      <td>-0.338755</td>\n",
       "      <td>0.540121</td>\n",
       "      <td>-1.140144</td>\n",
       "      <td>1.380422</td>\n",
       "      <td>-0.203417</td>\n",
       "      <td>1.367966</td>\n",
       "      <td>3.640448</td>\n",
       "      <td>-0.448160</td>\n",
       "      <td>-1.504130</td>\n",
       "      <td>-0.737209</td>\n",
       "      <td>-0.521453</td>\n",
       "    </tr>\n",
       "    <tr>\n",
       "      <td>5226</td>\n",
       "      <td>16</td>\n",
       "      <td>-0.427254</td>\n",
       "      <td>-0.210308</td>\n",
       "      <td>-1.271122</td>\n",
       "      <td>-0.325903</td>\n",
       "      <td>-0.374015</td>\n",
       "      <td>-0.031325</td>\n",
       "      <td>-0.223767</td>\n",
       "      <td>0.282719</td>\n",
       "      <td>-0.709090</td>\n",
       "      <td>-0.074163</td>\n",
       "      <td>0.357547</td>\n",
       "      <td>-0.978899</td>\n",
       "      <td>0.143034</td>\n",
       "      <td>-0.439476</td>\n",
       "      <td>1.006559</td>\n",
       "    </tr>\n",
       "    <tr>\n",
       "      <td>5016</td>\n",
       "      <td>12</td>\n",
       "      <td>-1.319907</td>\n",
       "      <td>-1.150148</td>\n",
       "      <td>0.273981</td>\n",
       "      <td>-0.325903</td>\n",
       "      <td>-1.308424</td>\n",
       "      <td>-1.268037</td>\n",
       "      <td>0.081693</td>\n",
       "      <td>0.439533</td>\n",
       "      <td>-0.709090</td>\n",
       "      <td>0.266340</td>\n",
       "      <td>0.646442</td>\n",
       "      <td>-0.625073</td>\n",
       "      <td>1.232949</td>\n",
       "      <td>-0.811643</td>\n",
       "      <td>-0.477739</td>\n",
       "    </tr>\n",
       "    <tr>\n",
       "      <td>5004</td>\n",
       "      <td>15</td>\n",
       "      <td>-0.244145</td>\n",
       "      <td>-0.210308</td>\n",
       "      <td>-0.567660</td>\n",
       "      <td>0.683835</td>\n",
       "      <td>-0.444537</td>\n",
       "      <td>0.710702</td>\n",
       "      <td>-0.223767</td>\n",
       "      <td>0.439533</td>\n",
       "      <td>-0.709090</td>\n",
       "      <td>0.446606</td>\n",
       "      <td>0.830284</td>\n",
       "      <td>-0.536617</td>\n",
       "      <td>-0.717424</td>\n",
       "      <td>-0.737209</td>\n",
       "      <td>-0.330700</td>\n",
       "    </tr>\n",
       "    <tr>\n",
       "      <td>4899</td>\n",
       "      <td>18</td>\n",
       "      <td>1.609830</td>\n",
       "      <td>1.732028</td>\n",
       "      <td>-0.693278</td>\n",
       "      <td>-0.662483</td>\n",
       "      <td>1.600584</td>\n",
       "      <td>-1.071869</td>\n",
       "      <td>0.387152</td>\n",
       "      <td>0.021361</td>\n",
       "      <td>-0.582671</td>\n",
       "      <td>-0.334546</td>\n",
       "      <td>3.377816</td>\n",
       "      <td>0.967144</td>\n",
       "      <td>0.159424</td>\n",
       "      <td>0.453725</td>\n",
       "      <td>-0.306856</td>\n",
       "    </tr>\n",
       "  </tbody>\n",
       "</table>\n",
       "</div>"
      ],
      "text/plain": [
       "      patient_age_quantile  hematocrit  hemoglobin  platelets  \\\n",
       "5204                    13    0.350958    0.416252  -1.936897   \n",
       "5226                    16   -0.427254   -0.210308  -1.271122   \n",
       "5016                    12   -1.319907   -1.150148   0.273981   \n",
       "5004                    15   -0.244145   -0.210308  -0.567660   \n",
       "4899                    18    1.609830    1.732028  -0.693278   \n",
       "\n",
       "      mean_platelet_volume  red_blood_cells  lymphocytes  basophils  \\\n",
       "5204              1.917961        -0.338755     0.540121  -1.140144   \n",
       "5226             -0.325903        -0.374015    -0.031325  -0.223767   \n",
       "5016             -0.325903        -1.308424    -1.268037   0.081693   \n",
       "5004              0.683835        -0.444537     0.710702  -0.223767   \n",
       "4899             -0.662483         1.600584    -1.071869   0.387152   \n",
       "\n",
       "      mean_corpuscular_hemoglobin_mch  eosinophils  \\\n",
       "5204                         1.380422    -0.203417   \n",
       "5226                         0.282719    -0.709090   \n",
       "5016                         0.439533    -0.709090   \n",
       "5004                         0.439533    -0.709090   \n",
       "4899                         0.021361    -0.582671   \n",
       "\n",
       "      mean_corpuscular_volume_mcv  monocytes  \\\n",
       "5204                     1.367966   3.640448   \n",
       "5226                    -0.074163   0.357547   \n",
       "5016                     0.266340   0.646442   \n",
       "5004                     0.446606   0.830284   \n",
       "4899                    -0.334546   3.377816   \n",
       "\n",
       "      red_blood_cell_distribution_width_rdw  neutrophils      urea  \\\n",
       "5204                              -0.448160    -1.504130 -0.737209   \n",
       "5226                              -0.978899     0.143034 -0.439476   \n",
       "5016                              -0.625073     1.232949 -0.811643   \n",
       "5004                              -0.536617    -0.717424 -0.737209   \n",
       "4899                               0.967144     0.159424  0.453725   \n",
       "\n",
       "      proteina_c_reativa_mg_dl  \n",
       "5204                 -0.521453  \n",
       "5226                  1.006559  \n",
       "5016                 -0.477739  \n",
       "5004                 -0.330700  \n",
       "4899                 -0.306856  "
      ]
     },
     "execution_count": 183,
     "metadata": {},
     "output_type": "execute_result"
    }
   ],
   "source": [
    "from sklearn.model_selection import train_test_split\n",
    "\n",
    "X = pd.get_dummies(X)\n",
    "\n",
    "X_train, X_test, y_train, y_test = train_test_split(X, y, random_state=42)\n",
    "\n",
    "X_train.head()"
   ]
  },
  {
   "cell_type": "code",
   "execution_count": 185,
   "metadata": {},
   "outputs": [
    {
     "data": {
      "text/plain": [
       "f    9\n",
       "t    2\n",
       "Name: patient_addmited_to_intensive_care_unit_1_yes_0_no, dtype: int64"
      ]
     },
     "execution_count": 185,
     "metadata": {},
     "output_type": "execute_result"
    }
   ],
   "source": [
    "y_test.value_counts()"
   ]
  },
  {
   "cell_type": "code",
   "execution_count": 186,
   "metadata": {},
   "outputs": [
    {
     "data": {
      "text/plain": [
       "f    30\n",
       "t     3\n",
       "Name: patient_addmited_to_intensive_care_unit_1_yes_0_no, dtype: int64"
      ]
     },
     "execution_count": 186,
     "metadata": {},
     "output_type": "execute_result"
    }
   ],
   "source": [
    "y_train.value_counts()"
   ]
  },
  {
   "cell_type": "markdown",
   "metadata": {},
   "source": [
    "# Pre-processing\n",
    "\n",
    "Scale the data using the MinMaxScaler and perform some feature selection"
   ]
  },
  {
   "cell_type": "code",
   "execution_count": null,
   "metadata": {},
   "outputs": [],
   "source": [
    "# # Scale your data\n",
    "# from sklearn.preprocessing import MinMaxScaler\n",
    "# X_minmax = MinMaxScaler().fit(X_train)\n",
    "# #y_minmax = MinMaxScaler().fit(y_train)\n",
    "\n",
    "# X_train_minmax = X_minmax.transform(X_train)\n",
    "# X_test_minmax = X_minmax.transform(X_test)\n",
    "# #y_train_minmax = y_minmax.transform(y_train)\n",
    "# #y_test_minmax = y_minmax.transform(y_test)"
   ]
  },
  {
   "cell_type": "markdown",
   "metadata": {},
   "source": [
    "# Train the Model\n",
    "\n"
   ]
  },
  {
   "cell_type": "code",
   "execution_count": 187,
   "metadata": {},
   "outputs": [],
   "source": [
    "from sklearn.ensemble import RandomForestClassifier\n",
    "from sklearn.metrics import classification_report\n"
   ]
  },
  {
   "cell_type": "code",
   "execution_count": 189,
   "metadata": {},
   "outputs": [
    {
     "name": "stdout",
     "output_type": "stream",
     "text": [
      "Training Data Score: 1.0\n",
      "Testing Data Score: 0.8181818181818182\n"
     ]
    }
   ],
   "source": [
    "# Create a random forest classifier\n",
    "rf = RandomForestClassifier(n_estimators=2000)\n",
    "rf = rf.fit(X_train, y_train)\n",
    "acc = rf.score(X_test, y_test)\n",
    "print(f\"Training Data Score: {rf.score(X_train, y_train)}\")\n",
    "print(f\"Testing Data Score: {rf.score(X_test, y_test)}\")"
   ]
  },
  {
   "cell_type": "code",
   "execution_count": 190,
   "metadata": {},
   "outputs": [
    {
     "data": {
      "text/plain": [
       "{'bootstrap': True,\n",
       " 'ccp_alpha': 0.0,\n",
       " 'class_weight': None,\n",
       " 'criterion': 'gini',\n",
       " 'max_depth': None,\n",
       " 'max_features': 'auto',\n",
       " 'max_leaf_nodes': None,\n",
       " 'max_samples': None,\n",
       " 'min_impurity_decrease': 0.0,\n",
       " 'min_impurity_split': None,\n",
       " 'min_samples_leaf': 1,\n",
       " 'min_samples_split': 2,\n",
       " 'min_weight_fraction_leaf': 0.0,\n",
       " 'n_estimators': 2000,\n",
       " 'n_jobs': None,\n",
       " 'oob_score': False,\n",
       " 'random_state': None,\n",
       " 'verbose': 0,\n",
       " 'warm_start': False}"
      ]
     },
     "execution_count": 190,
     "metadata": {},
     "output_type": "execute_result"
    }
   ],
   "source": [
    "rf.get_params()"
   ]
  },
  {
   "cell_type": "markdown",
   "metadata": {},
   "source": [
    "## Random Forest Tuning"
   ]
  },
  {
   "cell_type": "code",
   "execution_count": 209,
   "metadata": {},
   "outputs": [],
   "source": [
    "## Random Forest Tuning\n",
    "# Create the GridSearchCV model\n",
    "from sklearn.model_selection import GridSearchCV\n",
    "\n",
    "param_grid = {\n",
    "    'bootstrap': [True],\n",
    "    'max_depth': [10,20,30],\n",
    "    'max_features': [2,3,4],\n",
    "    'min_samples_leaf': [3, 4, 5],\n",
    "    'min_samples_split': [8, 10, 12],\n",
    "    'n_estimators': [200, 300, 1000]\n",
    "}\n",
    "# Create a based model\n",
    "rf = RandomForestClassifier()\n",
    "# Instantiate the grid search model\n",
    "# grid_search = GridSearchCV(estimator = rf, param_grid = param_grid, \n",
    "#                           cv = 3, n_jobs = -1, verbose = 2)\n",
    "grid_search = GridSearchCV(estimator = rf, param_grid = param_grid, \n",
    "                             n_jobs = -1, verbose = 2)\n"
   ]
  },
  {
   "cell_type": "code",
   "execution_count": 210,
   "metadata": {
    "scrolled": false
   },
   "outputs": [
    {
     "name": "stdout",
     "output_type": "stream",
     "text": [
      "Fitting 5 folds for each of 243 candidates, totalling 1215 fits\n"
     ]
    },
    {
     "name": "stderr",
     "output_type": "stream",
     "text": [
      "/Users/ningningdu/opt/anaconda3/lib/python3.7/site-packages/sklearn/model_selection/_split.py:672: UserWarning: The least populated class in y has only 3 members, which is less than n_splits=5.\n",
      "  % (min_groups, self.n_splits)), UserWarning)\n",
      "[Parallel(n_jobs=-1)]: Using backend LokyBackend with 12 concurrent workers.\n",
      "[Parallel(n_jobs=-1)]: Done  17 tasks      | elapsed:    1.6s\n",
      "[Parallel(n_jobs=-1)]: Done 138 tasks      | elapsed:   14.6s\n",
      "[Parallel(n_jobs=-1)]: Done 341 tasks      | elapsed:   37.8s\n",
      "[Parallel(n_jobs=-1)]: Done 624 tasks      | elapsed:  1.2min\n",
      "[Parallel(n_jobs=-1)]: Done 989 tasks      | elapsed:  2.0min\n",
      "[Parallel(n_jobs=-1)]: Done 1215 out of 1215 | elapsed:  2.5min finished\n"
     ]
    },
    {
     "data": {
      "text/plain": [
       "{'bootstrap': True,\n",
       " 'max_depth': 10,\n",
       " 'max_features': 2,\n",
       " 'min_samples_leaf': 3,\n",
       " 'min_samples_split': 8,\n",
       " 'n_estimators': 200}"
      ]
     },
     "execution_count": 210,
     "metadata": {},
     "output_type": "execute_result"
    }
   ],
   "source": [
    "# Train the model with GridSearch\n",
    "grid_search.fit(X_train, y_train)\n",
    "grid_search.best_params_\n"
   ]
  },
  {
   "cell_type": "code",
   "execution_count": 211,
   "metadata": {
    "scrolled": true
   },
   "outputs": [],
   "source": [
    "best_grid = grid_search.best_estimator_\n",
    "# print(f\"Training Data Score: {best_grid.score(X_train_minmax, y_train)}\")\n",
    "# print(f\"Testing Data Score: {best_grid.score(X_test_minmax, y_test)}\")"
   ]
  },
  {
   "cell_type": "code",
   "execution_count": 212,
   "metadata": {},
   "outputs": [
    {
     "name": "stdout",
     "output_type": "stream",
     "text": [
      "Training Data Score: 0.9090909090909091\n",
      "Testing Data Score: 0.8181818181818182\n"
     ]
    }
   ],
   "source": [
    "best_model_rf= best_grid.fit(X_train,y_train)\n",
    "print(f\"Training Data Score: {best_model_rf.score(X_train, y_train)}\")\n",
    "print(f\"Testing Data Score: {best_model_rf.score(X_test, y_test)}\")\n",
    "# print(f\"Training Data Score: {best_grid.score(X_train_minmax, y_train)}\")\n",
    "# print(f\"Testing Data Score: {best_grid.score(X_test_minmax, y_test)}\")"
   ]
  },
  {
   "cell_type": "code",
   "execution_count": 213,
   "metadata": {
    "scrolled": false
   },
   "outputs": [
    {
     "name": "stdout",
     "output_type": "stream",
     "text": [
      "{'bootstrap': True, 'max_depth': 10, 'max_features': 2, 'min_samples_leaf': 3, 'min_samples_split': 8, 'n_estimators': 200}\n",
      "0.9142857142857143\n"
     ]
    }
   ],
   "source": [
    "print(grid_search.best_params_)\n",
    "print(grid_search.best_score_)"
   ]
  },
  {
   "cell_type": "code",
   "execution_count": 214,
   "metadata": {
    "scrolled": true
   },
   "outputs": [
    {
     "data": {
      "text/html": [
       "<div>\n",
       "<style scoped>\n",
       "    .dataframe tbody tr th:only-of-type {\n",
       "        vertical-align: middle;\n",
       "    }\n",
       "\n",
       "    .dataframe tbody tr th {\n",
       "        vertical-align: top;\n",
       "    }\n",
       "\n",
       "    .dataframe thead th {\n",
       "        text-align: right;\n",
       "    }\n",
       "</style>\n",
       "<table border=\"1\" class=\"dataframe\">\n",
       "  <thead>\n",
       "    <tr style=\"text-align: right;\">\n",
       "      <th></th>\n",
       "      <th>feature</th>\n",
       "      <th>importance</th>\n",
       "    </tr>\n",
       "  </thead>\n",
       "  <tbody>\n",
       "    <tr>\n",
       "      <td>0</td>\n",
       "      <td>patient_age_quantile</td>\n",
       "      <td>0.097914</td>\n",
       "    </tr>\n",
       "    <tr>\n",
       "      <td>1</td>\n",
       "      <td>hematocrit</td>\n",
       "      <td>0.061512</td>\n",
       "    </tr>\n",
       "    <tr>\n",
       "      <td>2</td>\n",
       "      <td>hemoglobin</td>\n",
       "      <td>0.038785</td>\n",
       "    </tr>\n",
       "    <tr>\n",
       "      <td>3</td>\n",
       "      <td>platelets</td>\n",
       "      <td>0.049979</td>\n",
       "    </tr>\n",
       "    <tr>\n",
       "      <td>4</td>\n",
       "      <td>mean_platelet_volume</td>\n",
       "      <td>0.040561</td>\n",
       "    </tr>\n",
       "    <tr>\n",
       "      <td>5</td>\n",
       "      <td>red_blood_cells</td>\n",
       "      <td>0.047027</td>\n",
       "    </tr>\n",
       "    <tr>\n",
       "      <td>6</td>\n",
       "      <td>lymphocytes</td>\n",
       "      <td>0.167793</td>\n",
       "    </tr>\n",
       "    <tr>\n",
       "      <td>7</td>\n",
       "      <td>basophils</td>\n",
       "      <td>0.027535</td>\n",
       "    </tr>\n",
       "    <tr>\n",
       "      <td>8</td>\n",
       "      <td>mean_corpuscular_hemoglobin_mch</td>\n",
       "      <td>0.033132</td>\n",
       "    </tr>\n",
       "    <tr>\n",
       "      <td>9</td>\n",
       "      <td>eosinophils</td>\n",
       "      <td>0.025187</td>\n",
       "    </tr>\n",
       "    <tr>\n",
       "      <td>10</td>\n",
       "      <td>mean_corpuscular_volume_mcv</td>\n",
       "      <td>0.052473</td>\n",
       "    </tr>\n",
       "    <tr>\n",
       "      <td>11</td>\n",
       "      <td>monocytes</td>\n",
       "      <td>0.044824</td>\n",
       "    </tr>\n",
       "    <tr>\n",
       "      <td>12</td>\n",
       "      <td>red_blood_cell_distribution_width_rdw</td>\n",
       "      <td>0.062668</td>\n",
       "    </tr>\n",
       "    <tr>\n",
       "      <td>13</td>\n",
       "      <td>neutrophils</td>\n",
       "      <td>0.146291</td>\n",
       "    </tr>\n",
       "    <tr>\n",
       "      <td>14</td>\n",
       "      <td>urea</td>\n",
       "      <td>0.016435</td>\n",
       "    </tr>\n",
       "    <tr>\n",
       "      <td>15</td>\n",
       "      <td>proteina_c_reativa_mg_dl</td>\n",
       "      <td>0.087884</td>\n",
       "    </tr>\n",
       "  </tbody>\n",
       "</table>\n",
       "</div>"
      ],
      "text/plain": [
       "                                  feature  importance\n",
       "0                    patient_age_quantile    0.097914\n",
       "1                              hematocrit    0.061512\n",
       "2                              hemoglobin    0.038785\n",
       "3                               platelets    0.049979\n",
       "4                    mean_platelet_volume    0.040561\n",
       "5                         red_blood_cells    0.047027\n",
       "6                             lymphocytes    0.167793\n",
       "7                               basophils    0.027535\n",
       "8         mean_corpuscular_hemoglobin_mch    0.033132\n",
       "9                             eosinophils    0.025187\n",
       "10            mean_corpuscular_volume_mcv    0.052473\n",
       "11                              monocytes    0.044824\n",
       "12  red_blood_cell_distribution_width_rdw    0.062668\n",
       "13                            neutrophils    0.146291\n",
       "14                                   urea    0.016435\n",
       "15               proteina_c_reativa_mg_dl    0.087884"
      ]
     },
     "execution_count": 214,
     "metadata": {},
     "output_type": "execute_result"
    }
   ],
   "source": [
    "feature_importance= pd.DataFrame({\n",
    "    \"feature\": X.columns.to_list(),\n",
    "    \"importance\": best_model_rf.feature_importances_\n",
    "    \n",
    "})\n",
    "feature_importance"
   ]
  },
  {
   "cell_type": "code",
   "execution_count": 215,
   "metadata": {},
   "outputs": [],
   "source": [
    "feature_importance= feature_importance.sort_values(by=\"importance\", ascending=False)"
   ]
  },
  {
   "cell_type": "code",
   "execution_count": 216,
   "metadata": {},
   "outputs": [
    {
     "data": {
      "text/plain": [
       "<matplotlib.axes._subplots.AxesSubplot at 0x7fa1d3e73d50>"
      ]
     },
     "execution_count": 216,
     "metadata": {},
     "output_type": "execute_result"
    },
    {
     "data": {
      "image/png": "[encoded data removed]",
      "text/plain": [
       "<Figure size 432x288 with 1 Axes>"
      ]
     },
     "metadata": {
      "needs_background": "light"
     },
     "output_type": "display_data"
    }
   ],
   "source": [
    "feature_importance.plot.bar(x=\"feature\",y=\"importance\")"
   ]
  },
  {
   "cell_type": "code",
   "execution_count": null,
   "metadata": {},
   "outputs": [],
   "source": []
  }
 ],
 "metadata": {
  "kernel_info": {
   "name": "dev"
  },
  "kernelspec": {
   "display_name": "Python 3",
   "language": "python",
   "name": "python3"
  },
  "language_info": {
   "codemirror_mode": {
    "name": "ipython",
    "version": 3
   },
   "file_extension": ".py",
   "mimetype": "text/x-python",
   "name": "python",
   "nbconvert_exporter": "python",
   "pygments_lexer": "ipython3",
   "version": "3.7.4"
  },
  "nteract": {
   "version": "0.12.3"
  }
 },
 "nbformat": 4,
 "nbformat_minor": 2
}
